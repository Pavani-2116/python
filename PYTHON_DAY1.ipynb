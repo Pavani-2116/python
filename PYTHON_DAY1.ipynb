{
  "nbformat": 4,
  "nbformat_minor": 0,
  "metadata": {
    "colab": {
      "provenance": [],
      "authorship_tag": "ABX9TyPYucd+WRcEBJHzmbiWcJY2",
      "include_colab_link": true
    },
    "kernelspec": {
      "name": "python3",
      "display_name": "Python 3"
    },
    "language_info": {
      "name": "python"
    }
  },
  "cells": [
    {
      "cell_type": "markdown",
      "metadata": {
        "id": "view-in-github",
        "colab_type": "text"
      },
      "source": [
        "<a href=\"https://colab.research.google.com/github/Pavani-2116/python/blob/main/PYTHON_DAY1.ipynb\" target=\"_parent\"><img src=\"https://colab.research.google.com/assets/colab-badge.svg\" alt=\"Open In Colab\"/></a>"
      ]
    },
    {
      "cell_type": "markdown",
      "source": [
        "**What is Python?**"
      ],
      "metadata": {
        "id": "13Vkl2RzDMj-"
      }
    },
    {
      "cell_type": "markdown",
      "source": [
        "Python is a high-level, interpreted, dynamically typed, general-purpose programming language."
      ],
      "metadata": {
        "id": "RWqaPENW_syY"
      }
    },
    {
      "cell_type": "markdown",
      "source": [
        "Who created it?\n",
        "\n",
        "Guido van Rossum in the late 1980s.\n",
        "\n",
        "Officially released in 1991.\n",
        "\n",
        "Named after the comedy show \"Monty Python\", not the snake"
      ],
      "metadata": {
        "id": "wLth88G3AJEG"
      }
    },
    {
      "cell_type": "markdown",
      "source": [
        "Example"
      ],
      "metadata": {
        "id": "AaV2VufPAYpz"
      }
    },
    {
      "cell_type": "code",
      "source": [
        "print(\"Hello World!\")\n",
        "print(\"this is pavani\")\n",
        "print(\"Let's start learning python\")"
      ],
      "metadata": {
        "id": "0mte29i6AagY"
      },
      "execution_count": null,
      "outputs": []
    },
    {
      "cell_type": "markdown",
      "source": [
        "**What is Varibles?**"
      ],
      "metadata": {
        "id": "XI9ZvdAACAhZ"
      }
    },
    {
      "cell_type": "markdown",
      "source": [
        "A label or name that stores data in memory.\n",
        "\n",
        "In Python, you don’t need to declare a type before assigning a value.\n",
        "\n",
        "Python uses dynamic typing."
      ],
      "metadata": {
        "id": "2RPcySsLDc_n"
      }
    },
    {
      "cell_type": "markdown",
      "source": [
        "Memory and Variables:\n",
        "Python stores values in memory and binds variable names to those values."
      ],
      "metadata": {
        "id": "TOmxlJIzDhak"
      }
    },
    {
      "cell_type": "markdown",
      "source": [
        "Variable Naming Rules:\n",
        "Must start with a letter or _\n",
        "Cannot start with a number\n",
        "No special symbols like @, -, !\n",
        "Cannot use Python keywords"
      ],
      "metadata": {
        "id": "L1py8SvRD7PE"
      }
    },
    {
      "cell_type": "markdown",
      "source": [
        "Example:"
      ],
      "metadata": {
        "id": "I_E0p16QELsF"
      }
    },
    {
      "cell_type": "code",
      "source": [
        "name = \"Pavani\"\n",
        "print(name)\n",
        "age = 20\n",
        "print(age)\n",
        "height = 5.5\n",
        "print(height)\n",
        "is_student = True\n",
        "print(is_student)"
      ],
      "metadata": {
        "colab": {
          "base_uri": "https://localhost:8080/"
        },
        "id": "JiOfrSW2ENzT",
        "outputId": "1a382399-c041-46db-8283-3ddbdd121c9d"
      },
      "execution_count": 2,
      "outputs": [
        {
          "output_type": "stream",
          "name": "stdout",
          "text": [
            "Pavani\n",
            "20\n",
            "5.5\n",
            "True\n"
          ]
        }
      ]
    },
    {
      "cell_type": "markdown",
      "source": [
        "**PYTHON DATA TYPES**"
      ],
      "metadata": {
        "id": "5yRFywfDEm6O"
      }
    },
    {
      "cell_type": "markdown",
      "source": [
        "Tells Python what kind of data a variable holds.\n",
        "\n",
        "Python automatically identifies types using type() function."
      ],
      "metadata": {
        "id": "B6vh0zr9H0s1"
      }
    },
    {
      "cell_type": "markdown",
      "source": [
        "**Basic (Primitive) Data Types**\n",
        "These are the building blocks:"
      ],
      "metadata": {
        "id": "2lDTCeVWIAUV"
      }
    },
    {
      "cell_type": "markdown",
      "source": [
        "**int – Integer**\n",
        "Whole numbers, positive or negative.\n",
        "\n",
        "No decimal point.\n",
        " Internally: Python can handle arbitrarily large integers — no fixed size like other languages."
      ],
      "metadata": {
        "id": "9QXNwWpUIMla"
      }
    },
    {
      "cell_type": "code",
      "source": [
        "#example\n",
        "a = 10\n",
        "b = -121\n",
        "c = 0\n",
        "print(a,b,c)"
      ],
      "metadata": {
        "colab": {
          "base_uri": "https://localhost:8080/"
        },
        "id": "6eRzTFKJH_te",
        "outputId": "96cf4ae5-bb74-48a0-bdf5-1c6d693515ef"
      },
      "execution_count": 3,
      "outputs": [
        {
          "output_type": "stream",
          "name": "stdout",
          "text": [
            "10 -121 0\n"
          ]
        }
      ]
    },
    {
      "cell_type": "markdown",
      "source": [
        "**float – Floating Point**\n",
        "Numbers with a decimal point or in exponential form.\n",
        "Note: Precision is limited due to binary floating-point representation."
      ],
      "metadata": {
        "id": "POf-ib0uIp03"
      }
    },
    {
      "cell_type": "code",
      "source": [
        "# example\n",
        "pi = 3.14\n",
        "value = 2.5e3\n",
        "print(pi ,value)"
      ],
      "metadata": {
        "colab": {
          "base_uri": "https://localhost:8080/"
        },
        "id": "hmnVfnadI5YD",
        "outputId": "6709c81c-4006-4867-e53d-0e53e7677398"
      },
      "execution_count": 4,
      "outputs": [
        {
          "output_type": "stream",
          "name": "stdout",
          "text": [
            "3.14 2500.0\n"
          ]
        }
      ]
    },
    {
      "cell_type": "markdown",
      "source": [
        "**complex – Complex Numbers**\n",
        "Used in math and engineering.\n",
        "\n",
        "Format: a + bj"
      ],
      "metadata": {
        "id": "Eg29MTjXJF05"
      }
    },
    {
      "cell_type": "code",
      "source": [
        "# example\n",
        "z = 3 + 5j\n",
        "print(z, z.real ,z.imag)"
      ],
      "metadata": {
        "colab": {
          "base_uri": "https://localhost:8080/"
        },
        "id": "15kna4_9JNjC",
        "outputId": "494aed1f-1770-41a7-85d9-8973c239aedb"
      },
      "execution_count": 5,
      "outputs": [
        {
          "output_type": "stream",
          "name": "stdout",
          "text": [
            "(3+5j) 3.0 5.0\n"
          ]
        }
      ]
    },
    {
      "cell_type": "markdown",
      "source": [
        "**bool – Boolean**\n",
        "Logical values: True or False\n",
        "\n",
        "Used in conditions and logical operations.\n",
        "Internally: True = 1, False = 0"
      ],
      "metadata": {
        "id": "PTWTPrwPJgzZ"
      }
    },
    {
      "cell_type": "code",
      "source": [
        "# example\n",
        "is_true = True\n",
        "is_false = False\n",
        "print(is_true,is_false)"
      ],
      "metadata": {
        "colab": {
          "base_uri": "https://localhost:8080/"
        },
        "id": "ougm9AH9Jt-m",
        "outputId": "dc308a34-ea29-40e7-c294-1e84ff502366"
      },
      "execution_count": 6,
      "outputs": [
        {
          "output_type": "stream",
          "name": "stdout",
          "text": [
            "True False\n"
          ]
        }
      ]
    },
    {
      "cell_type": "markdown",
      "source": [
        "**str – String**\n",
        "A sequence of Unicode characters\n",
        "\n",
        "Strings are immutable — you can’t change them in-place."
      ],
      "metadata": {
        "id": "xk-PmQQWJ7WI"
      }
    },
    {
      "cell_type": "code",
      "source": [
        "#example\n",
        "name = \"pavani\"\n",
        "upper_case = name.upper()\n",
        "print(upper_case)\n",
        "print(name)"
      ],
      "metadata": {
        "colab": {
          "base_uri": "https://localhost:8080/"
        },
        "id": "BNTPq9tAKpjw",
        "outputId": "d82d38a1-053f-4100-fbd5-39061dffe44c"
      },
      "execution_count": 8,
      "outputs": [
        {
          "output_type": "stream",
          "name": "stdout",
          "text": [
            "PAVANI\n",
            "pavani\n"
          ]
        }
      ]
    },
    {
      "cell_type": "markdown",
      "source": [
        "**Collection (Container) Data Types**"
      ],
      "metadata": {
        "id": "Ne9OQUIvLaX5"
      }
    },
    {
      "cell_type": "markdown",
      "source": [
        "**list** – Ordered, Mutable Collection\n",
        "Items can be any type, and you can change, add, or remove elements.\n",
        "Lists can contain mixed types.\n",
        "\n"
      ],
      "metadata": {
        "id": "r-J3TmcALgNY"
      }
    },
    {
      "cell_type": "code",
      "source": [
        "#example\n",
        "my_list = [10,2.45,\"pavani\", True]\n",
        "print(my_list)"
      ],
      "metadata": {
        "colab": {
          "base_uri": "https://localhost:8080/"
        },
        "id": "N9vuPbxUKYSJ",
        "outputId": "bca2102a-f4e4-41b2-d4de-32c8e337566d"
      },
      "execution_count": 9,
      "outputs": [
        {
          "output_type": "stream",
          "name": "stdout",
          "text": [
            "[10, 2.45, 'pavani', True]\n"
          ]
        }
      ]
    },
    {
      "cell_type": "markdown",
      "source": [
        "**tuple** – Ordered, Immutable Collection\n",
        "Similar to lists, but cannot be changed once defined.\n",
        "Use cases:\n",
        "\n",
        "Fixed data (e.g., days of week)\n",
        "\n",
        "Return multiple values from functions\n",
        "\n"
      ],
      "metadata": {
        "id": "h5VpzTzqMKFX"
      }
    },
    {
      "cell_type": "code",
      "source": [
        "latitude_longitude = (23.4,26.4)\n",
        "print(latitude_longitude)\n",
        "a = (4)\n",
        "print(a, type(a))\n",
        "t = (5,) # for singleton tuple\n",
        "print(t, type(t))"
      ],
      "metadata": {
        "colab": {
          "base_uri": "https://localhost:8080/"
        },
        "id": "W_v3wK-TMT3b",
        "outputId": "94a00f0d-9f19-45a4-a2b0-3e8c9f413357"
      },
      "execution_count": 12,
      "outputs": [
        {
          "output_type": "stream",
          "name": "stdout",
          "text": [
            "(23.4, 26.4)\n",
            "4 <class 'int'>\n",
            "(5,) <class 'tuple'>\n"
          ]
        }
      ]
    },
    {
      "cell_type": "markdown",
      "source": [
        "**set** – Unordered, Unique Elements\n",
        "No duplicates.\n",
        "\n",
        "Unordered = no indexing.\n",
        "Common uses:\n",
        "\n",
        "Fast membership testing: if \"red\" in colors\n",
        "\n",
        "Set operations: union, intersection"
      ],
      "metadata": {
        "id": "lROrsrsJNDPA"
      }
    },
    {
      "cell_type": "code",
      "source": [
        "#example\n",
        "colors = {\"red\", \"green\", \"blue\"}\n",
        "print(colors)\n",
        "a = {1, 2, 3}\n",
        "b = {3, 4, 5}\n",
        "print(a | b)  # Union\n",
        "print(a & b)  # Intersection"
      ],
      "metadata": {
        "colab": {
          "base_uri": "https://localhost:8080/"
        },
        "id": "jUN2NdHRNUxC",
        "outputId": "1e37cbbc-6515-46b7-cd5a-cee142b3fbd7"
      },
      "execution_count": 13,
      "outputs": [
        {
          "output_type": "stream",
          "name": "stdout",
          "text": [
            "{'blue', 'green', 'red'}\n",
            "{1, 2, 3, 4, 5}\n",
            "{3}\n"
          ]
        }
      ]
    },
    {
      "cell_type": "markdown",
      "source": [
        "**dict** – Key-Value Pairs (Mapping)\n",
        "Used to store related info as key-value.\n",
        "Keys must be immutable (str, int, tuple).\n",
        " Values can be any type."
      ],
      "metadata": {
        "id": "8BoFQWDxNg5J"
      }
    },
    {
      "cell_type": "code",
      "source": [
        "#example\n",
        "students = {\"name\": \"pavani\", \"age\": 20, \"grade\": \"A\"}\n",
        "print(students)\n",
        "print(students[\"name\"])"
      ],
      "metadata": {
        "colab": {
          "base_uri": "https://localhost:8080/"
        },
        "id": "3EwIu1j1Nr1u",
        "outputId": "3de319bb-76d9-4538-f7c9-62724e454228"
      },
      "execution_count": 14,
      "outputs": [
        {
          "output_type": "stream",
          "name": "stdout",
          "text": [
            "{'name': 'pavani', 'age': 20, 'grade': 'A'}\n",
            "pavani\n"
          ]
        }
      ]
    },
    {
      "cell_type": "markdown",
      "source": [
        "**NoneType**:\n",
        "**None** Special type with a single value: None\n",
        "\n",
        "Used to represent absence of value."
      ],
      "metadata": {
        "id": "PWbtdX_ZNrLA"
      }
    },
    {
      "cell_type": "code",
      "source": [
        "result = None\n",
        "if result is None:\n",
        "    print(\"No result yet.\")\n"
      ],
      "metadata": {
        "colab": {
          "base_uri": "https://localhost:8080/"
        },
        "id": "N1_dQA6mObGv",
        "outputId": "94a30ad0-3d93-4c27-ea43-710f493b1f75"
      },
      "execution_count": 15,
      "outputs": [
        {
          "output_type": "stream",
          "name": "stdout",
          "text": [
            "No result yet.\n"
          ]
        }
      ]
    },
    {
      "cell_type": "markdown",
      "source": [
        "**What is a Comment?**\n",
        "\n",
        "A line ignored by Python when running the code.\n",
        "\n",
        "Used to explain, organize, or temporarily disable code.\n",
        "\n",
        "**Types:**\n",
        "Single-line: starts with #\n",
        "\n",
        "Multi-line: use triple quotes (''' or \"\"\")"
      ],
      "metadata": {
        "id": "NU4UPPCUPJsV"
      }
    },
    {
      "cell_type": "code",
      "source": [
        "# This line tells your name\n",
        "name = \"Pavani\"\n",
        "\n",
        "'''\n",
        "This is a multi-line comment.\n",
        "Used for bigger explanations.\n",
        "'''\n",
        "print(name)\n"
      ],
      "metadata": {
        "colab": {
          "base_uri": "https://localhost:8080/"
        },
        "id": "J4FjZKVGPQXE",
        "outputId": "09f0680a-a8f6-46f1-ec09-8ff71fdcea3e"
      },
      "execution_count": 16,
      "outputs": [
        {
          "output_type": "stream",
          "name": "stdout",
          "text": [
            "Pavani\n"
          ]
        }
      ]
    },
    {
      "cell_type": "markdown",
      "source": [
        "**Input & Output**"
      ],
      "metadata": {
        "id": "FO9OPQEYPfV3"
      }
    },
    {
      "cell_type": "markdown",
      "source": [
        "**OUTPUT** in Python using print()\n",
        " Basic Usage:\n",
        "The print() function displays text or variable values to the screen.\n",
        "Commas automatically add spaces.\n",
        "\n",
        "No need for type conversion when using ,\n",
        "\n"
      ],
      "metadata": {
        "id": "xLRux85cPkWv"
      }
    },
    {
      "cell_type": "code",
      "source": [
        "#example\n",
        "print(\"Hello, World!\")\n",
        "name = \"Pavani\"\n",
        "age = 22\n",
        "print(name)\n",
        "print(\"Age:\", age)\n",
        "print(\"My name is\", name, \"and I am\", age, \"years old.\")\n",
        "\n"
      ],
      "metadata": {
        "colab": {
          "base_uri": "https://localhost:8080/"
        },
        "id": "BrvHeCOtR5b2",
        "outputId": "63bf6342-d6ff-49d7-fbbc-661216141976"
      },
      "execution_count": 17,
      "outputs": [
        {
          "output_type": "stream",
          "name": "stdout",
          "text": [
            "Hello, World!\n",
            "Pavani\n",
            "Age: 22\n",
            "My name is Pavani and I am 22 years old.\n"
          ]
        }
      ]
    },
    {
      "cell_type": "markdown",
      "source": [
        "**String Formatting** (3 Ways)\n",
        "F-strings (Best, Python 3.6+)\n",
        ".format()\n",
        "% Formatting (Old Style)"
      ],
      "metadata": {
        "id": "6SS5lO0PSRWK"
      }
    },
    {
      "cell_type": "code",
      "source": [
        "#example\n",
        "name = input(\"enter your name:\")\n",
        "age = int(input(\"enter your age:\"))\n",
        "print(f\"My name is {name} and age is {age}\")\n",
        "print(\"My name is {} and age is {}\".format(name,age))\n",
        "print(\"My name is %s and age is %d .\" % (name,age))"
      ],
      "metadata": {
        "colab": {
          "base_uri": "https://localhost:8080/"
        },
        "id": "AWk91mnGSbAq",
        "outputId": "51663ad9-7b94-45f0-fb4b-bb8df3d32624"
      },
      "execution_count": 20,
      "outputs": [
        {
          "output_type": "stream",
          "name": "stdout",
          "text": [
            "enter your name:pavani\n",
            "enter your age:20\n",
            "My name is pavani and age is 20\n",
            "My name is pavani and age is 20\n",
            "My name is pavani and age is 20 .\n"
          ]
        }
      ]
    },
    {
      "cell_type": "markdown",
      "source": [
        "**INPUT** in Python using input()\n",
        " Basic Input\n",
        " Always returns a string type!\n",
        " Type Conversion:\n",
        "Since input() returns a string, you must convert it for numbers:"
      ],
      "metadata": {
        "id": "Xx7lFYVrUgmp"
      }
    },
    {
      "cell_type": "code",
      "source": [
        "#example\n",
        "name = input(\"Enter your name: \")\n",
        "print(\"Hello\", name)\n",
        "age = int(input(\"Enter your age: \"))\n",
        "height = float(input(\"Enter your height in cm: \"))\n"
      ],
      "metadata": {
        "colab": {
          "base_uri": "https://localhost:8080/"
        },
        "id": "PHqO6HjXUw0z",
        "outputId": "6769d288-18aa-411d-8347-9c0dc91ba13c"
      },
      "execution_count": 21,
      "outputs": [
        {
          "name": "stdout",
          "output_type": "stream",
          "text": [
            "Enter your name: pavani\n",
            "Hello pavani\n",
            "Enter your age: 20\n",
            "Enter your height in cm: 5.5\n"
          ]
        }
      ]
    }
  ]
}